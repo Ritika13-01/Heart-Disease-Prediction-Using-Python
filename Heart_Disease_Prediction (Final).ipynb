{
 "cells": [
  {
   "cell_type": "code",
   "execution_count": 17,
   "id": "fe26b276-1a5e-4981-bbd6-dea7e91df5aa",
   "metadata": {},
   "outputs": [],
   "source": [
    "# importing neccessary libraries\n",
    "import pandas as pd\n",
    "import numpy as np\n",
    "from sklearn.preprocessing import MinMaxScaler\n",
    "import matplotlib.pyplot as plt\n",
    "import seaborn as sns"
   ]
  },
  {
   "cell_type": "code",
   "execution_count": 19,
   "id": "5ffa5e3e-5a41-4728-8eac-8345cf12a588",
   "metadata": {},
   "outputs": [],
   "source": [
    "# reading dataset\n",
    "dataset = pd.read_excel(\"C:\\\\Users\\\\sat01\\\\OneDrive\\\\Desktop\\\\Heart Disease Prediction.xlsx\")"
   ]
  },
  {
   "cell_type": "code",
   "execution_count": 21,
   "id": "ebf6c6d9-7345-4461-8234-93843cf886ca",
   "metadata": {},
   "outputs": [
    {
     "name": "stdout",
     "output_type": "stream",
     "text": [
      "      Gender  Age CurrentSmoker  CigsPerDay BPMeds PrevalentStroke  \\\n",
      "1       Male   39            No         0.0     No              No   \n",
      "2     Female   46            No         0.0     No              No   \n",
      "3       Male   48           Yes        20.0     No              No   \n",
      "4     Female   61           Yes        30.0     No              No   \n",
      "5     Female   46           Yes        23.0     No              No   \n",
      "...      ...  ...           ...         ...    ...             ...   \n",
      "4236  Female   48           Yes        20.0     No              No   \n",
      "4237  Female   44           Yes        15.0     No              No   \n",
      "4238  Female   52            No         0.0     No              No   \n",
      "4239    Male   40            No         0.0     No              No   \n",
      "4240  Female   39           Yes        30.0     No              No   \n",
      "\n",
      "     PrevalentHyp Diabetes  TotChol  SysBP  DiaBP    BMI  HeartRate  Glucose  \\\n",
      "1              No       No    195.0  106.0   70.0  26.97       80.0     77.0   \n",
      "2              No       No    250.0  121.0   81.0  28.73       95.0     76.0   \n",
      "3              No       No    245.0  127.5   80.0  25.34       75.0     70.0   \n",
      "4             Yes       No    225.0  150.0   95.0  28.58       65.0    103.0   \n",
      "5              No       No    285.0  130.0   84.0  23.10       85.0     85.0   \n",
      "...           ...      ...      ...    ...    ...    ...        ...      ...   \n",
      "4236           No       No    248.0  131.0   72.0  22.00       84.0     86.0   \n",
      "4237           No       No    210.0  126.5   87.0  19.16       86.0      NaN   \n",
      "4238           No       No    269.0  133.5   83.0  21.47       80.0    107.0   \n",
      "4239          Yes       No    185.0  141.0   98.0  25.60       67.0     72.0   \n",
      "4240           No       No    196.0  133.0   86.0  20.91       85.0     80.0   \n",
      "\n",
      "     TenYearCHD  \n",
      "1            No  \n",
      "2            No  \n",
      "3            No  \n",
      "4           Yes  \n",
      "5            No  \n",
      "...         ...  \n",
      "4236         No  \n",
      "4237         No  \n",
      "4238         No  \n",
      "4239         No  \n",
      "4240         No  \n",
      "\n",
      "[4240 rows x 15 columns]\n"
     ]
    }
   ],
   "source": [
    "# Increment the index to start from 1\n",
    "dataset.index += 1 \n",
    "\n",
    "# Print the Dataset with the updated index\n",
    "print(dataset)"
   ]
  },
  {
   "cell_type": "code",
   "execution_count": 23,
   "id": "1baa8adc-f122-4170-b9ee-fe7265b73be1",
   "metadata": {},
   "outputs": [
    {
     "name": "stdout",
     "output_type": "stream",
     "text": [
      "   Gender  Age CurrentSmoker  CigsPerDay BPMeds PrevalentStroke PrevalentHyp  \\\n",
      "1    Male   39            No         0.0     No              No           No   \n",
      "2  Female   46            No         0.0     No              No           No   \n",
      "3    Male   48           Yes        20.0     No              No           No   \n",
      "4  Female   61           Yes        30.0     No              No          Yes   \n",
      "5  Female   46           Yes        23.0     No              No           No   \n",
      "\n",
      "  Diabetes  TotChol  SysBP  DiaBP    BMI  HeartRate  Glucose TenYearCHD  \n",
      "1       No    195.0  106.0   70.0  26.97       80.0     77.0         No  \n",
      "2       No    250.0  121.0   81.0  28.73       95.0     76.0         No  \n",
      "3       No    245.0  127.5   80.0  25.34       75.0     70.0         No  \n",
      "4       No    225.0  150.0   95.0  28.58       65.0    103.0        Yes  \n",
      "5       No    285.0  130.0   84.0  23.10       85.0     85.0         No   (3802, 15)\n",
      "TenYearCHD\n",
      "No     3219\n",
      "Yes     583\n",
      "Name: count, dtype: int64\n"
     ]
    }
   ],
   "source": [
    "# removing NULL values\n",
    "dataset.dropna(axis = 0, inplace = True)\n",
    "print(dataset.head(), dataset.shape)\n",
    "print(dataset.TenYearCHD.value_counts())"
   ]
  },
  {
   "cell_type": "code",
   "execution_count": 25,
   "id": "6e952ba3-3f27-4b57-8200-5ec89026f650",
   "metadata": {},
   "outputs": [
    {
     "name": "stderr",
     "output_type": "stream",
     "text": [
      "C:\\Users\\sat01\\AppData\\Local\\Temp\\ipykernel_27728\\1412159361.py:2: FutureWarning: Downcasting behavior in `replace` is deprecated and will be removed in a future version. To retain the old behavior, explicitly call `result.infer_objects(copy=False)`. To opt-in to the future behavior, set `pd.set_option('future.no_silent_downcasting', True)`\n",
      "  disease_df = dataset.replace({\"Yes\": 1, \"No\": 0})\n",
      "C:\\Users\\sat01\\AppData\\Local\\Temp\\ipykernel_27728\\1412159361.py:3: FutureWarning: Downcasting behavior in `replace` is deprecated and will be removed in a future version. To retain the old behavior, explicitly call `result.infer_objects(copy=False)`. To opt-in to the future behavior, set `pd.set_option('future.no_silent_downcasting', True)`\n",
      "  df = disease_df.replace({\"Male\": 1, \"Female\": 0})\n"
     ]
    }
   ],
   "source": [
    "# encoding categorical values\n",
    "disease_df = dataset.replace({\"Yes\": 1, \"No\": 0})\n",
    "df = disease_df.replace({\"Male\": 1, \"Female\": 0})"
   ]
  },
  {
   "cell_type": "code",
   "execution_count": 27,
   "id": "b56b72ac-33ad-47c4-bc7d-a820097e8ec3",
   "metadata": {},
   "outputs": [
    {
     "name": "stdout",
     "output_type": "stream",
     "text": [
      "      Gender  Age  CurrentSmoker  CigsPerDay  BPMeds  PrevalentStroke  \\\n",
      "1          1   39              0         0.0       0                0   \n",
      "2          0   46              0         0.0       0                0   \n",
      "3          1   48              1        20.0       0                0   \n",
      "4          0   61              1        30.0       0                0   \n",
      "5          0   46              1        23.0       0                0   \n",
      "...      ...  ...            ...         ...     ...              ...   \n",
      "4235       1   51              1        43.0       0                0   \n",
      "4236       0   48              1        20.0       0                0   \n",
      "4238       0   52              0         0.0       0                0   \n",
      "4239       1   40              0         0.0       0                0   \n",
      "4240       0   39              1        30.0       0                0   \n",
      "\n",
      "      PrevalentHyp  Diabetes  TotChol  SysBP  DiaBP    BMI  HeartRate  \\\n",
      "1                0         0    195.0  106.0   70.0  26.97       80.0   \n",
      "2                0         0    250.0  121.0   81.0  28.73       95.0   \n",
      "3                0         0    245.0  127.5   80.0  25.34       75.0   \n",
      "4                1         0    225.0  150.0   95.0  28.58       65.0   \n",
      "5                0         0    285.0  130.0   84.0  23.10       85.0   \n",
      "...            ...       ...      ...    ...    ...    ...        ...   \n",
      "4235             0         0    207.0  126.5   80.0  19.71       65.0   \n",
      "4236             0         0    248.0  131.0   72.0  22.00       84.0   \n",
      "4238             0         0    269.0  133.5   83.0  21.47       80.0   \n",
      "4239             1         0    185.0  141.0   98.0  25.60       67.0   \n",
      "4240             0         0    196.0  133.0   86.0  20.91       85.0   \n",
      "\n",
      "      Glucose  TenYearCHD  \n",
      "1        77.0           0  \n",
      "2        76.0           0  \n",
      "3        70.0           0  \n",
      "4       103.0           1  \n",
      "5        85.0           0  \n",
      "...       ...         ...  \n",
      "4235     68.0           0  \n",
      "4236     86.0           0  \n",
      "4238    107.0           0  \n",
      "4239     72.0           0  \n",
      "4240     80.0           0  \n",
      "\n",
      "[3802 rows x 15 columns]\n"
     ]
    }
   ],
   "source": [
    "# printing data after pre-processing\n",
    "print(df)"
   ]
  },
  {
   "cell_type": "code",
   "execution_count": 29,
   "id": "0ef88690-ec8c-4d5d-b77b-09d1e1984975",
   "metadata": {},
   "outputs": [
    {
     "name": "stdout",
     "output_type": "stream",
     "text": [
      "Train set: (2661, 7) (2661,)\n",
      "Test set: (1141, 7) (1141,)\n"
     ]
    }
   ],
   "source": [
    "# converting dataframe to array\n",
    "X = np.asarray(df[['Age', 'HeartRate', 'DiaBP', \n",
    "                           'TotChol', 'SysBP', 'Glucose', 'BMI']])\n",
    "Y = np.asarray(df['TenYearCHD'])\n",
    "\n",
    "# Normalizing the features (Min-Max Scaling)\n",
    "scaler = MinMaxScaler()\n",
    "X = scaler.fit_transform(X)\n",
    "\n",
    "# Train-and-Test -Split\n",
    "from sklearn.model_selection import train_test_split\n",
    "X_train, X_test, Y_train, Y_test = train_test_split( \n",
    "        X, Y, test_size = 0.3, random_state = 4)\n",
    "\n",
    "# Printing Train-and-Test -Split\n",
    "print ('Train set:', X_train.shape,  Y_train.shape)\n",
    "print ('Test set:', X_test.shape,  Y_test.shape)"
   ]
  },
  {
   "cell_type": "code",
   "execution_count": 31,
   "id": "5de87977-3068-449b-90be-693c3b0e97d8",
   "metadata": {},
   "outputs": [
    {
     "data": {
      "image/png": "[encoded data removed]",
      "text/plain": [
       "<Figure size 800x600 with 1 Axes>"
      ]
     },
     "metadata": {},
     "output_type": "display_data"
    }
   ],
   "source": [
    "# Create figure and axis\n",
    "plt.figure(figsize=(8, 6))\n",
    "\n",
    "# Create the countplot\n",
    "ax = sns.countplot(data=df, \n",
    "                   x='TenYearCHD', \n",
    "                   hue='TenYearCHD',\n",
    "                   palette=\"coolwarm\",\n",
    "                   legend=False)\n",
    "\n",
    "# Customize the plot\n",
    "plt.title('Distribution of 10-Year CHD Risk')\n",
    "plt.xlabel('10 Year CHD Risk (0 = No, 1 = Yes)')\n",
    "plt.ylabel('Count')\n",
    "\n",
    "# Add value labels on top of each bar\n",
    "for i in ax.containers:\n",
    "    ax.bar_label(i)\n",
    "\n",
    "# Show the plot\n",
    "plt.show()"
   ]
  },
  {
   "cell_type": "code",
   "execution_count": 33,
   "id": "3d8e2d4f-cc18-45ef-9c01-bee0f1e99428",
   "metadata": {},
   "outputs": [],
   "source": [
    "# running logistic regression\n",
    "from sklearn.linear_model import LogisticRegression\n",
    "\n",
    "logreg = LogisticRegression()\n",
    "logreg.fit(X_train, Y_train)\n",
    "Y_pred = logreg.predict(X_test)"
   ]
  },
  {
   "cell_type": "code",
   "execution_count": 35,
   "id": "f9d8c0b4-3e63-4f00-b437-eee2f1e2b83f",
   "metadata": {},
   "outputs": [
    {
     "name": "stdout",
     "output_type": "stream",
     "text": [
      "Accuracy of the model is = 0.8413672217353199\n"
     ]
    }
   ],
   "source": [
    "# evaluation and accuracy\n",
    "from sklearn.metrics import accuracy_score\n",
    "\n",
    "print('Accuracy of the model is =', \n",
    "      accuracy_score(Y_test, Y_pred))"
   ]
  },
  {
   "cell_type": "code",
   "execution_count": 37,
   "id": "4ead0aa6-7094-4d16-9def-ed6e7171e61c",
   "metadata": {},
   "outputs": [
    {
     "data": {
      "image/png": "[encoded data removed]",
      "text/plain": [
       "<Figure size 800x500 with 2 Axes>"
      ]
     },
     "metadata": {},
     "output_type": "display_data"
    },
    {
     "name": "stdout",
     "output_type": "stream",
     "text": [
      "The details for confusion matrix is =\n",
      "              precision    recall  f1-score   support\n",
      "\n",
      "           0       0.84      0.99      0.91       960\n",
      "           1       0.50      0.03      0.05       181\n",
      "\n",
      "    accuracy                           0.84      1141\n",
      "   macro avg       0.67      0.51      0.48      1141\n",
      "weighted avg       0.79      0.84      0.78      1141\n",
      "\n"
     ]
    }
   ],
   "source": [
    "# confusion matrix \n",
    "from sklearn.metrics import confusion_matrix, classification_report\n",
    "\n",
    "cm = confusion_matrix(Y_test, Y_pred)\n",
    "conf_matrix = pd.DataFrame(data = cm, \n",
    "                           columns = ['Predicted:0', 'Predicted:1'], \n",
    "                           index =['Actual:0', 'Actual:1'])\n",
    "\n",
    "plt.figure(figsize = (8, 5))\n",
    "sns.heatmap(conf_matrix, annot = True, fmt = 'd', cmap = \"Greens\")\n",
    "\n",
    "plt.show()\n",
    "print('The details for confusion matrix is =')\n",
    "print (classification_report(Y_test, Y_pred))"
   ]
  },
  {
   "cell_type": "code",
   "execution_count": 39,
   "id": "2de2240d-9306-4a6a-b2be-3597a85ad6f7",
   "metadata": {},
   "outputs": [],
   "source": [
    "# importing neccessarylibraries\n",
    "import matplotlib.pyplot as plt\n",
    "from sklearn.tree import DecisionTreeClassifier\n",
    "from sklearn import tree\n",
    "from sklearn.model_selection import train_test_split\n",
    "from sklearn.metrics import confusion_matrix, accuracy_score, ConfusionMatrixDisplay"
   ]
  },
  {
   "cell_type": "code",
   "execution_count": 41,
   "id": "14aca52b-8f9c-4ee3-a9b4-c48a8354317f",
   "metadata": {},
   "outputs": [],
   "source": [
    "# model building\n",
    "df_train,df_test = train_test_split(df,train_size=0.3,random_state=4)\n",
    "y_train = df_train.pop('TenYearCHD')\n",
    "x_train = df_train\n",
    "y_test = df_test.pop('TenYearCHD')\n",
    "x_test = df_test"
   ]
  },
  {
   "cell_type": "code",
   "execution_count": 43,
   "id": "37e63af3-3540-4248-981c-93e297517032",
   "metadata": {},
   "outputs": [],
   "source": [
    "# initializing decision tree classifier\n",
    "clf = DecisionTreeClassifier(random_state=4)\n",
    "clf.fit(x_train, y_train)\n",
    "y_pred = clf.predict(x_test)"
   ]
  },
  {
   "cell_type": "code",
   "execution_count": 45,
   "id": "d72141a6-f5ea-4262-ac56-f361d584a0c6",
   "metadata": {},
   "outputs": [
    {
     "name": "stdout",
     "output_type": "stream",
     "text": [
      "Accuracy: 0.7404207362885049\n"
     ]
    }
   ],
   "source": [
    "# calculating accuracy\n",
    "accuracy = accuracy_score(y_test, y_pred)\n",
    "print(f'Accuracy: {accuracy}')"
   ]
  },
  {
   "cell_type": "code",
   "execution_count": 47,
   "id": "a5f7548e-7076-4ac4-b3dc-973bae0ae25d",
   "metadata": {},
   "outputs": [
    {
     "data": {
      "image/png": "[encoded data removed]",
      "text/plain": [
       "<Figure size 800x500 with 2 Axes>"
      ]
     },
     "metadata": {},
     "output_type": "display_data"
    },
    {
     "name": "stdout",
     "output_type": "stream",
     "text": [
      "The details for confusion matrix is =\n",
      "              precision    recall  f1-score   support\n",
      "\n",
      "           0       0.85      0.84      0.84      2242\n",
      "           1       0.20      0.21      0.21       420\n",
      "\n",
      "    accuracy                           0.74      2662\n",
      "   macro avg       0.53      0.53      0.53      2662\n",
      "weighted avg       0.75      0.74      0.74      2662\n",
      "\n"
     ]
    }
   ],
   "source": [
    "# confusion matrix \n",
    "from sklearn.metrics import confusion_matrix, classification_report\n",
    "\n",
    "cm = confusion_matrix(y_test, y_pred)\n",
    "conf_matrix = pd.DataFrame(data = cm, \n",
    "                           columns = ['Predicted:0', 'Predicted:1'], \n",
    "                           index =['Actual:0', 'Actual:1'])\n",
    "\n",
    "plt.figure(figsize = (8, 5))\n",
    "sns.heatmap(conf_matrix, annot = True, fmt = 'd', cmap = \"Greens\")\n",
    "\n",
    "plt.show()\n",
    "print('The details for confusion matrix is =')\n",
    "print (classification_report(y_test, y_pred))"
   ]
  },
  {
   "cell_type": "code",
   "execution_count": null,
   "id": "60e59056-9104-42b2-bb8e-4e2b1a122293",
   "metadata": {},
   "outputs": [],
   "source": []
  }
 ],
 "metadata": {
  "kernelspec": {
   "display_name": "Python 3 (ipykernel)",
   "language": "python",
   "name": "python3"
  },
  "language_info": {
   "codemirror_mode": {
    "name": "ipython",
    "version": 3
   },
   "file_extension": ".py",
   "mimetype": "text/x-python",
   "name": "python",
   "nbconvert_exporter": "python",
   "pygments_lexer": "ipython3",
   "version": "3.12.4"
  }
 },
 "nbformat": 4,
 "nbformat_minor": 5
}
